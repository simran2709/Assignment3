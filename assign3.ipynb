{
  "nbformat": 4,
  "nbformat_minor": 0,
  "metadata": {
    "colab": {
      "provenance": []
    },
    "kernelspec": {
      "name": "python3",
      "display_name": "Python 3"
    },
    "language_info": {
      "name": "python"
    }
  },
  "cells": [
    {
      "cell_type": "markdown",
      "source": [
        "#ASSIGNMENT- 3\n",
        "\n",
        "#THEORY QUESTION\n",
        "\n",
        "QUES.1 What is the difference between a function and a method in Python?\n",
        "- Function: Works independently and can be called without an object. Example: len().\n",
        "- Method: Works on an object and is called using the object. Example: \"text\".upper().\n",
        "\n",
        "QUES.2 Explain the concept of function arguments and parameters in Python.\n",
        "- Parameters:\n",
        "     - These are variables listed in the function definition.\n",
        "     - They act as placeholders for values the function expects when called.\n",
        "\n",
        "- Arguments:\n",
        "\n",
        "    - These are the actual values provided to the function when it is called.\n",
        "\n",
        "- Key Concept: Parameters are like empty boxes defined in the function, and arguments are the data put into those boxes when the function is called.\n",
        "\n",
        "QUES.3 What are the different ways to define and call a function in Python?\n",
        "- Defining a Function:\n",
        "    - Use the def keyword, followed by the function name and parentheses. Inside the parentheses, you can specify parameters if needed.\n",
        "\n",
        "- Calling a Function:\n",
        "    - Use the function name followed by parentheses. If the function requires parameters, pass arguments within the parentheses.\n",
        "\n",
        "QUES.4 What is the purpose of the `return` statement in a Python function?\n",
        "- The return statement allows a function to send a value back to the caller.\n",
        "Without return, a function will output None by default.\n",
        "- Purpose:\n",
        "    - It helps to store or use the result of a computation outside the function.\n",
        "\n",
        "QUES.5 What are iterators in Python and how do they differ from iterables?\n",
        "- Iterable:\n",
        "    - Any object capable of returning its elements one at a time (e.g., lists, tuples, strings).\n",
        "    - You can loop over them using a for loop.\n",
        "\n",
        "- Iterator:\n",
        "    - An object with a next() method that produces the elements of an iterable, one at a time.\n",
        "    - Created using the iter() function.\n",
        "- Difference: An iterable can be converted to an iterator, but an iterator is a specific object used to fetch elements lazily.\n",
        "\n",
        "QUES.6 Explain the concept of generators in Python and how they are defined.\n",
        "- Generators are a special type of function that produce values lazily (on demand) using the yield keyword instead of return.\n",
        "- They are memory-efficient and useful for handling large datasets.\n",
        "\n",
        "QUES.7 What are the advantages of using generators over regular functions?\n",
        "- Memory Efficiency: Generators produce values one at a time, avoiding memory overhead.\n",
        "- Faster Execution: Generators don’t compute all values at once, which is faster for large data.\n",
        "- Simplicity: They simplify code when dealing with infinite sequences or large datasets.\n",
        "\n",
        "QUES.8 What is a lambda function in Python and when is it typically used?\n",
        "- A lambda function is a one-line, anonymous function defined using the lambda keyword.\n",
        "- They are often used for simple tasks where defining a full function is unnecessary.\n",
        "- Use Cases:\n",
        "    - Quick calculations.\n",
        "    - Combined with functions like map(), filter(), and reduce().\n",
        "\n",
        "QUES.9 Explain the purpose and usage of the `map()` function in Python.\n",
        "- Purpose: To apply a function to each item in an iterable (e.g., list, tuple).\n",
        "\n",
        "QUES.10 What is the difference between `map()`, `reduce()`, and `filter()` functions in Python?\n",
        "- map(): Applies a function to all elements. Example: map(lambda x: x*2, [1, 2, 3]).\n",
        "- filter(): Filters elements based on a condition. Example: filter(lambda x: x > 2, [1, 2, 3]).\n",
        "- reduce(): Combines elements into a single result. Example: reduce(lambda x, y: x+y, [1, 2, 3]).\n",
        "\n",
        "QUES.11 Using pen & Paper write the internal mechanism for sum operation using  reduce function on this given\n",
        "list:[47,11,42,13];\n",
        "- The reduce function works step-by-step:\n",
        "1. First, add the first two numbers: 47 + 11 = 58.\n",
        "2. Then, add the result to the next number: 58 + 42 = 100.\n",
        "3. Finally, add the last number: 100 + 13 = 113.\n",
        "\n"
      ],
      "metadata": {
        "id": "nDmvn1Hm6spk"
      }
    },
    {
      "cell_type": "code",
      "execution_count": 9,
      "metadata": {
        "colab": {
          "base_uri": "https://localhost:8080/"
        },
        "id": "8UxOhV416r1I",
        "outputId": "2c815f5d-1d35-48c0-8e3f-fb3f41d0f456"
      },
      "outputs": [
        {
          "output_type": "stream",
          "name": "stdout",
          "text": [
            "12\n"
          ]
        }
      ],
      "source": [
        "#QUES.1 Write a Python function that takes a list of numbers as input and returns the sum of all even numbers in\n",
        "#the list.\n",
        "def sum_of_evens(lst):\n",
        "    return sum(x for x in lst if x % 2 == 0)\n",
        "print(sum_of_evens([1, 2, 3, 4, 5, 6]))"
      ]
    },
    {
      "cell_type": "code",
      "source": [
        "#QUES.2 Create a Python function that accepts a string and returns the reverse of that string.\n",
        "def reverse_string(string):\n",
        "    return string[::-1]\n",
        "print(reverse_string(\"Hello, World!\"))"
      ],
      "metadata": {
        "colab": {
          "base_uri": "https://localhost:8080/"
        },
        "id": "9fdiGHZW9zgP",
        "outputId": "c47fd58a-d3a2-472d-fabf-e446fed6343e"
      },
      "execution_count": 10,
      "outputs": [
        {
          "output_type": "stream",
          "name": "stdout",
          "text": [
            "!dlroW ,olleH\n"
          ]
        }
      ]
    },
    {
      "cell_type": "code",
      "source": [
        "#QUES.3 Implement a Python function that takes a list of integers and returns a new list containing the squares of\n",
        "#each number.\n",
        "def square_numbers(lst):\n",
        "    return [x**2 for x in lst]\n",
        "print(square_numbers([1, 2, 3, 4, 5]))"
      ],
      "metadata": {
        "colab": {
          "base_uri": "https://localhost:8080/"
        },
        "id": "eMb6eYpH9zTy",
        "outputId": "0290dc14-e3b9-47c3-8266-e458f4382833"
      },
      "execution_count": 11,
      "outputs": [
        {
          "output_type": "stream",
          "name": "stdout",
          "text": [
            "[1, 4, 9, 16, 25]\n"
          ]
        }
      ]
    },
    {
      "cell_type": "code",
      "source": [
        "#QUES.4 Write a Python function that checks if a given number is prime or not from 1 to 200.\n",
        "def is_prime(num):\n",
        "    if num < 2:\n",
        "        return False\n",
        "    for i in range(2, int(num**0.5) + 1):\n",
        "        if num % i == 0:\n",
        "            return False\n",
        "    return True\n",
        "print([x for x in range(1,201) if is_prime(x)])"
      ],
      "metadata": {
        "colab": {
          "base_uri": "https://localhost:8080/"
        },
        "id": "gwesxFs39yz6",
        "outputId": "733a30b1-1e36-4639-b5f3-e7ba118f2007"
      },
      "execution_count": 18,
      "outputs": [
        {
          "output_type": "stream",
          "name": "stdout",
          "text": [
            "[2, 3, 5, 7, 11, 13, 17, 19, 23, 29, 31, 37, 41, 43, 47, 53, 59, 61, 67, 71, 73, 79, 83, 89, 97, 101, 103, 107, 109, 113, 127, 131, 137, 139, 149, 151, 157, 163, 167, 173, 179, 181, 191, 193, 197, 199]\n"
          ]
        }
      ]
    },
    {
      "cell_type": "code",
      "source": [
        "#QUES.5 Create an iterator class in Python that generates the Fibonacci sequence up to a specified number of\n",
        "#terms.\n"
      ],
      "metadata": {
        "id": "faOIDdcS9yrD"
      },
      "execution_count": null,
      "outputs": []
    },
    {
      "cell_type": "code",
      "source": [
        "#QUES.6 Write a generator function in Python that yields the powers of 2 up to a given exponent.\n",
        "def power_of_two(n):\n",
        "    for i in range(n):\n",
        "        yield 2 ** i\n",
        "for x in power_of_two(5):\n",
        "    print(x)"
      ],
      "metadata": {
        "colab": {
          "base_uri": "https://localhost:8080/"
        },
        "id": "O0pkdJyS9yiq",
        "outputId": "192aab9d-1eb9-45bf-feb2-ecc929e5ad0d"
      },
      "execution_count": 19,
      "outputs": [
        {
          "output_type": "stream",
          "name": "stdout",
          "text": [
            "1\n",
            "2\n",
            "4\n",
            "8\n",
            "16\n"
          ]
        }
      ]
    },
    {
      "cell_type": "code",
      "source": [
        "#QUES.7 Implement a generator function that reads a file line by line and yields each line as a string.\n"
      ],
      "metadata": {
        "id": "_DKtMgrD9x2B"
      },
      "execution_count": 31,
      "outputs": []
    },
    {
      "cell_type": "code",
      "source": [
        "#QUES.8 Use a lambda function in Python to sort a list of tuples based on the second element of each tuple.\n",
        "tuples = [(1, 3), (2, 1), (4, 2)]\n",
        "sorted_tuples = sorted(tuples, key=lambda x: x[1])\n",
        "print(sorted_tuples)"
      ],
      "metadata": {
        "colab": {
          "base_uri": "https://localhost:8080/"
        },
        "id": "wSFZYGxP9xsN",
        "outputId": "8835fc8c-0f83-4ff2-db45-fe4aaac536d7"
      },
      "execution_count": 25,
      "outputs": [
        {
          "output_type": "stream",
          "name": "stdout",
          "text": [
            "[(2, 1), (4, 2), (1, 3)]\n"
          ]
        }
      ]
    },
    {
      "cell_type": "code",
      "source": [
        "#QUES.9 Write a Python program that uses `map()` to convert a list of temperatures from Celsius to Fahrenheit.\n",
        "temps = [0, 20, 30]\n",
        "fahrenheit = list(map(lambda c: (c * 9/5) + 32, temps))\n",
        "print(fahrenheit)"
      ],
      "metadata": {
        "colab": {
          "base_uri": "https://localhost:8080/"
        },
        "id": "OtCPfb_A9xqu",
        "outputId": "804149f9-a76c-4813-ef5b-b4533cd2a95f"
      },
      "execution_count": 26,
      "outputs": [
        {
          "output_type": "stream",
          "name": "stdout",
          "text": [
            "[32.0, 68.0, 86.0]\n"
          ]
        }
      ]
    },
    {
      "cell_type": "code",
      "source": [
        "#QUES.10 Create a Python program that uses `filter()` to remove all the vowels from a given string.\n",
        "def remove_vowels(string):\n",
        "    vowels = 'aeiouAEIOU'\n",
        "    return ''.join(filter(lambda x: x not in vowels, string))\n",
        "print(remove_vowels(\"Hello, World!\"))"
      ],
      "metadata": {
        "colab": {
          "base_uri": "https://localhost:8080/"
        },
        "id": "XWggbfAB9xbG",
        "outputId": "16462b84-db3b-47df-cb92-58c99afc1bfe"
      },
      "execution_count": 27,
      "outputs": [
        {
          "output_type": "stream",
          "name": "stdout",
          "text": [
            "Hll, Wrld!\n"
          ]
        }
      ]
    },
    {
      "cell_type": "code",
      "source": [
        "#QUES.11 Imagine an accounting routine used in a book shop. It works on a list with sublists, which look like this:\n",
        "orders = [\n",
        "    [34587, \"Learning Python\", 4, 40.95],\n",
        "    [98762, \"Programming in C\", 5, 56.80],\n",
        "    [77226, \"Algorithms\", 3, 32.95]\n",
        "]\n",
        "result = list(map(lambda x: (x[0], x[2] * x[3] + (10 if x[2] * x[3] < 100 else 0)), orders))\n",
        "print(result)"
      ],
      "metadata": {
        "colab": {
          "base_uri": "https://localhost:8080/"
        },
        "id": "KN6irB7E-JWV",
        "outputId": "42834d14-65b9-42f0-d7f9-e53ec928d4a3"
      },
      "execution_count": 29,
      "outputs": [
        {
          "output_type": "stream",
          "name": "stdout",
          "text": [
            "[(34587, 163.8), (98762, 284.0), (77226, 108.85000000000001)]\n"
          ]
        }
      ]
    }
  ]
}